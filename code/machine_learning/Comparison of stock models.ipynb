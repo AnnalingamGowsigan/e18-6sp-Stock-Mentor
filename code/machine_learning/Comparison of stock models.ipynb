{
  "nbformat": 4,
  "nbformat_minor": 0,
  "metadata": {
    "colab": {
      "provenance": []
    },
    "kernelspec": {
      "name": "python3",
      "display_name": "Python 3"
    },
    "language_info": {
      "name": "python"
    }
  },
  "cells": [
    {
      "cell_type": "code",
      "execution_count": 1,
      "metadata": {
        "id": "dQQ-hgltDHsG"
      },
      "outputs": [],
      "source": [
        "#importing the libraries\n",
        "import os\n",
        "import numpy as np\n",
        "import pandas as pd\n",
        "import matplotlib.pyplot as plt\n",
        "import seaborn as sns\n",
        "from sklearn.ensemble import RandomForestClassifier\n",
        "from sklearn.model_selection import GridSearchCV\n",
        "from sklearn.linear_model import LogisticRegression\n",
        "from xgboost import XGBClassifier\n",
        "from sklearn.utils import class_weight\n",
        "import warnings\n",
        "warnings.filterwarnings(\"ignore\")\n",
        "import imblearn"
      ]
    },
    {
      "cell_type": "code",
      "source": [
        "#loading the data\n",
        "data=pd.read_csv(\"2yrs_stock_history.csv\")"
      ],
      "metadata": {
        "id": "SKBSoIjZDT0i"
      },
      "execution_count": 2,
      "outputs": []
    },
    {
      "cell_type": "code",
      "source": [
        "#shape of data\n",
        "data.shape"
      ],
      "metadata": {
        "colab": {
          "base_uri": "https://localhost:8080/"
        },
        "id": "AC0VMabRE0po",
        "outputId": "7b0cd3d8-c9d8-4b0b-d322-cbf7c5e88533"
      },
      "execution_count": 3,
      "outputs": [
        {
          "output_type": "execute_result",
          "data": {
            "text/plain": [
              "(4950, 11)"
            ]
          },
          "metadata": {},
          "execution_count": 3
        }
      ]
    },
    {
      "cell_type": "code",
      "source": [
        "#shape of data\n",
        "data.shape"
      ],
      "metadata": {
        "colab": {
          "base_uri": "https://localhost:8080/"
        },
        "id": "F94VgCKyM6i8",
        "outputId": "80f5ce9f-035d-4071-d3dc-f51f0bddcd12"
      },
      "execution_count": 4,
      "outputs": [
        {
          "output_type": "execute_result",
          "data": {
            "text/plain": [
              "(4950, 11)"
            ]
          },
          "metadata": {},
          "execution_count": 4
        }
      ]
    },
    {
      "cell_type": "code",
      "source": [
        "#companies we have in the dataset\n",
        "companies=data['Stock'].unique()\n",
        "print(companies)"
      ],
      "metadata": {
        "colab": {
          "base_uri": "https://localhost:8080/"
        },
        "id": "2gKpcSkAE3Ss",
        "outputId": "ab4ac67c-41f2-4243-dbe2-2f86f4dd97df"
      },
      "execution_count": 5,
      "outputs": [
        {
          "output_type": "stream",
          "name": "stdout",
          "text": [
            "['AAPL' 'CSCO' 'GD' 'GOOG' 'LIN' 'MSFT' 'NVDA' 'RTX' 'TSLA' 'FDX']\n"
          ]
        }
      ]
    },
    {
      "cell_type": "code",
      "source": [
        "data.describe()\n",
        "# # we will see here the mean, median, percentiles for all the coulmns"
      ],
      "metadata": {
        "colab": {
          "base_uri": "https://localhost:8080/",
          "height": 300
        },
        "id": "wrloRKsmE30U",
        "outputId": "5cd1acfc-6c26-42f4-b310-c89974157193"
      },
      "execution_count": 6,
      "outputs": [
        {
          "output_type": "execute_result",
          "data": {
            "text/plain": [
              "              Open         High          Low        Close   Trade_count  \\\n",
              "count  4950.000000  4950.000000  4950.000000  4950.000000  4.950000e+03   \n",
              "mean    190.635412   193.212414   188.070355   190.712298  2.967889e+05   \n",
              "std      87.532495    88.715526    86.264124    87.519777  3.547390e+05   \n",
              "min      38.430000    39.250000    38.010000    38.670000  9.283000e+03   \n",
              "25%     116.597500   118.791250   114.960075   116.972500  4.051275e+04   \n",
              "50%     194.360000   197.110000   191.680000   194.665000  1.175950e+05   \n",
              "75%     257.182500   259.875000   252.877500   257.035000  4.759052e+05   \n",
              "max     435.010000   439.900000   426.740000   438.080000  2.631367e+06   \n",
              "\n",
              "              Vwap           MA  Recommendation    stock_num  \n",
              "count  4950.000000  4950.000000     4950.000000  4950.000000  \n",
              "mean    190.674479   190.285171        1.746465     5.500000  \n",
              "std      87.495888    86.831958        0.597836     2.872571  \n",
              "min      38.870000    39.889000        0.000000     1.000000  \n",
              "25%     116.850000   116.743250        2.000000     3.000000  \n",
              "50%     194.202474   193.864000        2.000000     5.500000  \n",
              "75%     256.897500   256.645250        2.000000     8.000000  \n",
              "max     432.741129   410.465000        2.000000    10.000000  "
            ],
            "text/html": [
              "\n",
              "  <div id=\"df-50dd7846-b4cf-499f-86b6-bacc15c22188\" class=\"colab-df-container\">\n",
              "    <div>\n",
              "<style scoped>\n",
              "    .dataframe tbody tr th:only-of-type {\n",
              "        vertical-align: middle;\n",
              "    }\n",
              "\n",
              "    .dataframe tbody tr th {\n",
              "        vertical-align: top;\n",
              "    }\n",
              "\n",
              "    .dataframe thead th {\n",
              "        text-align: right;\n",
              "    }\n",
              "</style>\n",
              "<table border=\"1\" class=\"dataframe\">\n",
              "  <thead>\n",
              "    <tr style=\"text-align: right;\">\n",
              "      <th></th>\n",
              "      <th>Open</th>\n",
              "      <th>High</th>\n",
              "      <th>Low</th>\n",
              "      <th>Close</th>\n",
              "      <th>Trade_count</th>\n",
              "      <th>Vwap</th>\n",
              "      <th>MA</th>\n",
              "      <th>Recommendation</th>\n",
              "      <th>stock_num</th>\n",
              "    </tr>\n",
              "  </thead>\n",
              "  <tbody>\n",
              "    <tr>\n",
              "      <th>count</th>\n",
              "      <td>4950.000000</td>\n",
              "      <td>4950.000000</td>\n",
              "      <td>4950.000000</td>\n",
              "      <td>4950.000000</td>\n",
              "      <td>4.950000e+03</td>\n",
              "      <td>4950.000000</td>\n",
              "      <td>4950.000000</td>\n",
              "      <td>4950.000000</td>\n",
              "      <td>4950.000000</td>\n",
              "    </tr>\n",
              "    <tr>\n",
              "      <th>mean</th>\n",
              "      <td>190.635412</td>\n",
              "      <td>193.212414</td>\n",
              "      <td>188.070355</td>\n",
              "      <td>190.712298</td>\n",
              "      <td>2.967889e+05</td>\n",
              "      <td>190.674479</td>\n",
              "      <td>190.285171</td>\n",
              "      <td>1.746465</td>\n",
              "      <td>5.500000</td>\n",
              "    </tr>\n",
              "    <tr>\n",
              "      <th>std</th>\n",
              "      <td>87.532495</td>\n",
              "      <td>88.715526</td>\n",
              "      <td>86.264124</td>\n",
              "      <td>87.519777</td>\n",
              "      <td>3.547390e+05</td>\n",
              "      <td>87.495888</td>\n",
              "      <td>86.831958</td>\n",
              "      <td>0.597836</td>\n",
              "      <td>2.872571</td>\n",
              "    </tr>\n",
              "    <tr>\n",
              "      <th>min</th>\n",
              "      <td>38.430000</td>\n",
              "      <td>39.250000</td>\n",
              "      <td>38.010000</td>\n",
              "      <td>38.670000</td>\n",
              "      <td>9.283000e+03</td>\n",
              "      <td>38.870000</td>\n",
              "      <td>39.889000</td>\n",
              "      <td>0.000000</td>\n",
              "      <td>1.000000</td>\n",
              "    </tr>\n",
              "    <tr>\n",
              "      <th>25%</th>\n",
              "      <td>116.597500</td>\n",
              "      <td>118.791250</td>\n",
              "      <td>114.960075</td>\n",
              "      <td>116.972500</td>\n",
              "      <td>4.051275e+04</td>\n",
              "      <td>116.850000</td>\n",
              "      <td>116.743250</td>\n",
              "      <td>2.000000</td>\n",
              "      <td>3.000000</td>\n",
              "    </tr>\n",
              "    <tr>\n",
              "      <th>50%</th>\n",
              "      <td>194.360000</td>\n",
              "      <td>197.110000</td>\n",
              "      <td>191.680000</td>\n",
              "      <td>194.665000</td>\n",
              "      <td>1.175950e+05</td>\n",
              "      <td>194.202474</td>\n",
              "      <td>193.864000</td>\n",
              "      <td>2.000000</td>\n",
              "      <td>5.500000</td>\n",
              "    </tr>\n",
              "    <tr>\n",
              "      <th>75%</th>\n",
              "      <td>257.182500</td>\n",
              "      <td>259.875000</td>\n",
              "      <td>252.877500</td>\n",
              "      <td>257.035000</td>\n",
              "      <td>4.759052e+05</td>\n",
              "      <td>256.897500</td>\n",
              "      <td>256.645250</td>\n",
              "      <td>2.000000</td>\n",
              "      <td>8.000000</td>\n",
              "    </tr>\n",
              "    <tr>\n",
              "      <th>max</th>\n",
              "      <td>435.010000</td>\n",
              "      <td>439.900000</td>\n",
              "      <td>426.740000</td>\n",
              "      <td>438.080000</td>\n",
              "      <td>2.631367e+06</td>\n",
              "      <td>432.741129</td>\n",
              "      <td>410.465000</td>\n",
              "      <td>2.000000</td>\n",
              "      <td>10.000000</td>\n",
              "    </tr>\n",
              "  </tbody>\n",
              "</table>\n",
              "</div>\n",
              "    <div class=\"colab-df-buttons\">\n",
              "\n",
              "  <div class=\"colab-df-container\">\n",
              "    <button class=\"colab-df-convert\" onclick=\"convertToInteractive('df-50dd7846-b4cf-499f-86b6-bacc15c22188')\"\n",
              "            title=\"Convert this dataframe to an interactive table.\"\n",
              "            style=\"display:none;\">\n",
              "\n",
              "  <svg xmlns=\"http://www.w3.org/2000/svg\" height=\"24px\" viewBox=\"0 -960 960 960\">\n",
              "    <path d=\"M120-120v-720h720v720H120Zm60-500h600v-160H180v160Zm220 220h160v-160H400v160Zm0 220h160v-160H400v160ZM180-400h160v-160H180v160Zm440 0h160v-160H620v160ZM180-180h160v-160H180v160Zm440 0h160v-160H620v160Z\"/>\n",
              "  </svg>\n",
              "    </button>\n",
              "\n",
              "  <style>\n",
              "    .colab-df-container {\n",
              "      display:flex;\n",
              "      gap: 12px;\n",
              "    }\n",
              "\n",
              "    .colab-df-convert {\n",
              "      background-color: #E8F0FE;\n",
              "      border: none;\n",
              "      border-radius: 50%;\n",
              "      cursor: pointer;\n",
              "      display: none;\n",
              "      fill: #1967D2;\n",
              "      height: 32px;\n",
              "      padding: 0 0 0 0;\n",
              "      width: 32px;\n",
              "    }\n",
              "\n",
              "    .colab-df-convert:hover {\n",
              "      background-color: #E2EBFA;\n",
              "      box-shadow: 0px 1px 2px rgba(60, 64, 67, 0.3), 0px 1px 3px 1px rgba(60, 64, 67, 0.15);\n",
              "      fill: #174EA6;\n",
              "    }\n",
              "\n",
              "    .colab-df-buttons div {\n",
              "      margin-bottom: 4px;\n",
              "    }\n",
              "\n",
              "    [theme=dark] .colab-df-convert {\n",
              "      background-color: #3B4455;\n",
              "      fill: #D2E3FC;\n",
              "    }\n",
              "\n",
              "    [theme=dark] .colab-df-convert:hover {\n",
              "      background-color: #434B5C;\n",
              "      box-shadow: 0px 1px 3px 1px rgba(0, 0, 0, 0.15);\n",
              "      filter: drop-shadow(0px 1px 2px rgba(0, 0, 0, 0.3));\n",
              "      fill: #FFFFFF;\n",
              "    }\n",
              "  </style>\n",
              "\n",
              "    <script>\n",
              "      const buttonEl =\n",
              "        document.querySelector('#df-50dd7846-b4cf-499f-86b6-bacc15c22188 button.colab-df-convert');\n",
              "      buttonEl.style.display =\n",
              "        google.colab.kernel.accessAllowed ? 'block' : 'none';\n",
              "\n",
              "      async function convertToInteractive(key) {\n",
              "        const element = document.querySelector('#df-50dd7846-b4cf-499f-86b6-bacc15c22188');\n",
              "        const dataTable =\n",
              "          await google.colab.kernel.invokeFunction('convertToInteractive',\n",
              "                                                    [key], {});\n",
              "        if (!dataTable) return;\n",
              "\n",
              "        const docLinkHtml = 'Like what you see? Visit the ' +\n",
              "          '<a target=\"_blank\" href=https://colab.research.google.com/notebooks/data_table.ipynb>data table notebook</a>'\n",
              "          + ' to learn more about interactive tables.';\n",
              "        element.innerHTML = '';\n",
              "        dataTable['output_type'] = 'display_data';\n",
              "        await google.colab.output.renderOutput(dataTable, element);\n",
              "        const docLink = document.createElement('div');\n",
              "        docLink.innerHTML = docLinkHtml;\n",
              "        element.appendChild(docLink);\n",
              "      }\n",
              "    </script>\n",
              "  </div>\n",
              "\n",
              "\n",
              "<div id=\"df-97025d0b-5101-4734-bc71-0c2ce3c36d2e\">\n",
              "  <button class=\"colab-df-quickchart\" onclick=\"quickchart('df-97025d0b-5101-4734-bc71-0c2ce3c36d2e')\"\n",
              "            title=\"Suggest charts.\"\n",
              "            style=\"display:none;\">\n",
              "\n",
              "<svg xmlns=\"http://www.w3.org/2000/svg\" height=\"24px\"viewBox=\"0 0 24 24\"\n",
              "     width=\"24px\">\n",
              "    <g>\n",
              "        <path d=\"M19 3H5c-1.1 0-2 .9-2 2v14c0 1.1.9 2 2 2h14c1.1 0 2-.9 2-2V5c0-1.1-.9-2-2-2zM9 17H7v-7h2v7zm4 0h-2V7h2v10zm4 0h-2v-4h2v4z\"/>\n",
              "    </g>\n",
              "</svg>\n",
              "  </button>\n",
              "\n",
              "<style>\n",
              "  .colab-df-quickchart {\n",
              "      --bg-color: #E8F0FE;\n",
              "      --fill-color: #1967D2;\n",
              "      --hover-bg-color: #E2EBFA;\n",
              "      --hover-fill-color: #174EA6;\n",
              "      --disabled-fill-color: #AAA;\n",
              "      --disabled-bg-color: #DDD;\n",
              "  }\n",
              "\n",
              "  [theme=dark] .colab-df-quickchart {\n",
              "      --bg-color: #3B4455;\n",
              "      --fill-color: #D2E3FC;\n",
              "      --hover-bg-color: #434B5C;\n",
              "      --hover-fill-color: #FFFFFF;\n",
              "      --disabled-bg-color: #3B4455;\n",
              "      --disabled-fill-color: #666;\n",
              "  }\n",
              "\n",
              "  .colab-df-quickchart {\n",
              "    background-color: var(--bg-color);\n",
              "    border: none;\n",
              "    border-radius: 50%;\n",
              "    cursor: pointer;\n",
              "    display: none;\n",
              "    fill: var(--fill-color);\n",
              "    height: 32px;\n",
              "    padding: 0;\n",
              "    width: 32px;\n",
              "  }\n",
              "\n",
              "  .colab-df-quickchart:hover {\n",
              "    background-color: var(--hover-bg-color);\n",
              "    box-shadow: 0 1px 2px rgba(60, 64, 67, 0.3), 0 1px 3px 1px rgba(60, 64, 67, 0.15);\n",
              "    fill: var(--button-hover-fill-color);\n",
              "  }\n",
              "\n",
              "  .colab-df-quickchart-complete:disabled,\n",
              "  .colab-df-quickchart-complete:disabled:hover {\n",
              "    background-color: var(--disabled-bg-color);\n",
              "    fill: var(--disabled-fill-color);\n",
              "    box-shadow: none;\n",
              "  }\n",
              "\n",
              "  .colab-df-spinner {\n",
              "    border: 2px solid var(--fill-color);\n",
              "    border-color: transparent;\n",
              "    border-bottom-color: var(--fill-color);\n",
              "    animation:\n",
              "      spin 1s steps(1) infinite;\n",
              "  }\n",
              "\n",
              "  @keyframes spin {\n",
              "    0% {\n",
              "      border-color: transparent;\n",
              "      border-bottom-color: var(--fill-color);\n",
              "      border-left-color: var(--fill-color);\n",
              "    }\n",
              "    20% {\n",
              "      border-color: transparent;\n",
              "      border-left-color: var(--fill-color);\n",
              "      border-top-color: var(--fill-color);\n",
              "    }\n",
              "    30% {\n",
              "      border-color: transparent;\n",
              "      border-left-color: var(--fill-color);\n",
              "      border-top-color: var(--fill-color);\n",
              "      border-right-color: var(--fill-color);\n",
              "    }\n",
              "    40% {\n",
              "      border-color: transparent;\n",
              "      border-right-color: var(--fill-color);\n",
              "      border-top-color: var(--fill-color);\n",
              "    }\n",
              "    60% {\n",
              "      border-color: transparent;\n",
              "      border-right-color: var(--fill-color);\n",
              "    }\n",
              "    80% {\n",
              "      border-color: transparent;\n",
              "      border-right-color: var(--fill-color);\n",
              "      border-bottom-color: var(--fill-color);\n",
              "    }\n",
              "    90% {\n",
              "      border-color: transparent;\n",
              "      border-bottom-color: var(--fill-color);\n",
              "    }\n",
              "  }\n",
              "</style>\n",
              "\n",
              "  <script>\n",
              "    async function quickchart(key) {\n",
              "      const quickchartButtonEl =\n",
              "        document.querySelector('#' + key + ' button');\n",
              "      quickchartButtonEl.disabled = true;  // To prevent multiple clicks.\n",
              "      quickchartButtonEl.classList.add('colab-df-spinner');\n",
              "      try {\n",
              "        const charts = await google.colab.kernel.invokeFunction(\n",
              "            'suggestCharts', [key], {});\n",
              "      } catch (error) {\n",
              "        console.error('Error during call to suggestCharts:', error);\n",
              "      }\n",
              "      quickchartButtonEl.classList.remove('colab-df-spinner');\n",
              "      quickchartButtonEl.classList.add('colab-df-quickchart-complete');\n",
              "    }\n",
              "    (() => {\n",
              "      let quickchartButtonEl =\n",
              "        document.querySelector('#df-97025d0b-5101-4734-bc71-0c2ce3c36d2e button');\n",
              "      quickchartButtonEl.style.display =\n",
              "        google.colab.kernel.accessAllowed ? 'block' : 'none';\n",
              "    })();\n",
              "  </script>\n",
              "</div>\n",
              "    </div>\n",
              "  </div>\n"
            ]
          },
          "metadata": {},
          "execution_count": 6
        }
      ]
    },
    {
      "cell_type": "code",
      "source": [
        "#let's check if there is any duplicate data\n",
        "print(data.duplicated().any())\n",
        "print(data.duplicated().sum())"
      ],
      "metadata": {
        "colab": {
          "base_uri": "https://localhost:8080/"
        },
        "id": "GeF-YAXQFBeG",
        "outputId": "a5461de5-bd1a-4495-8385-da39b37778d6"
      },
      "execution_count": 7,
      "outputs": [
        {
          "output_type": "stream",
          "name": "stdout",
          "text": [
            "False\n",
            "0\n"
          ]
        }
      ]
    },
    {
      "cell_type": "code",
      "source": [
        "#let's drop all the duplicates values\n",
        "data.drop_duplicates(inplace=True)"
      ],
      "metadata": {
        "id": "ms_7IK-SFEUG"
      },
      "execution_count": 8,
      "outputs": []
    },
    {
      "cell_type": "code",
      "source": [
        "data.shape"
      ],
      "metadata": {
        "colab": {
          "base_uri": "https://localhost:8080/"
        },
        "id": "HJ4eyx7xFNa7",
        "outputId": "c08b9dd7-d524-4445-e427-fb72de96d5d8"
      },
      "execution_count": 9,
      "outputs": [
        {
          "output_type": "execute_result",
          "data": {
            "text/plain": [
              "(4950, 11)"
            ]
          },
          "metadata": {},
          "execution_count": 9
        }
      ]
    },
    {
      "cell_type": "code",
      "source": [
        "data.info()"
      ],
      "metadata": {
        "colab": {
          "base_uri": "https://localhost:8080/"
        },
        "id": "VlUTzAmiFQUg",
        "outputId": "3ee075bd-f57d-4ce0-f955-a3c3ed56b3c2"
      },
      "execution_count": 10,
      "outputs": [
        {
          "output_type": "stream",
          "name": "stdout",
          "text": [
            "<class 'pandas.core.frame.DataFrame'>\n",
            "Int64Index: 4950 entries, 0 to 4949\n",
            "Data columns (total 11 columns):\n",
            " #   Column          Non-Null Count  Dtype  \n",
            "---  ------          --------------  -----  \n",
            " 0   Date            4950 non-null   object \n",
            " 1   Open            4950 non-null   float64\n",
            " 2   High            4950 non-null   float64\n",
            " 3   Low             4950 non-null   float64\n",
            " 4   Close           4950 non-null   float64\n",
            " 5   Trade_count     4950 non-null   int64  \n",
            " 6   Vwap            4950 non-null   float64\n",
            " 7   MA              4950 non-null   float64\n",
            " 8   Recommendation  4950 non-null   int64  \n",
            " 9   Stock           4950 non-null   object \n",
            " 10  stock_num       4950 non-null   int64  \n",
            "dtypes: float64(6), int64(3), object(2)\n",
            "memory usage: 464.1+ KB\n"
          ]
        }
      ]
    },
    {
      "cell_type": "code",
      "source": [
        "# we have Recommendation feature as a target variable, now lets impute\n",
        "# missing values\n",
        "print(data['Recommendation'].isnull().sum())\n",
        "#empty values here that the user should hold the stocks.\n",
        "#lets will the empty values with \"Hold\"\n",
        "data['Recommendation']=data[\"Recommendation\"].fillna(\"2\")\n",
        "\n",
        "#2 = #hold\n",
        "#1 = #buy\n",
        "#0 = #sell"
      ],
      "metadata": {
        "colab": {
          "base_uri": "https://localhost:8080/"
        },
        "id": "gPJjrsuEFVPK",
        "outputId": "92cc1208-2056-434d-c7c9-b9c7493a4321"
      },
      "execution_count": 11,
      "outputs": [
        {
          "output_type": "stream",
          "name": "stdout",
          "text": [
            "0\n"
          ]
        }
      ]
    },
    {
      "cell_type": "code",
      "source": [
        "print(data['Recommendation'].isnull().sum())\n",
        "#now we dont have any null value"
      ],
      "metadata": {
        "colab": {
          "base_uri": "https://localhost:8080/"
        },
        "id": "jpxZ5X3MGVZa",
        "outputId": "defaac6f-871b-4bbb-a987-ca451390955e"
      },
      "execution_count": 12,
      "outputs": [
        {
          "output_type": "stream",
          "name": "stdout",
          "text": [
            "0\n"
          ]
        }
      ]
    },
    {
      "cell_type": "code",
      "source": [
        "#Recommendation is our target variable\n",
        "#Lets see if there is class imbalace or not\n",
        "\n",
        "print(data['Recommendation'].value_counts())\n",
        "plt.hist(data['Recommendation'], facecolor='g')\n",
        "plt.show()"
      ],
      "metadata": {
        "colab": {
          "base_uri": "https://localhost:8080/",
          "height": 499
        },
        "id": "goU9tVFNG4lv",
        "outputId": "0d40b9dd-f2d0-4447-8579-ea4a7f49d2ef"
      },
      "execution_count": 13,
      "outputs": [
        {
          "output_type": "stream",
          "name": "stdout",
          "text": [
            "2    4111\n",
            "1     423\n",
            "0     416\n",
            "Name: Recommendation, dtype: int64\n"
          ]
        },
        {
          "output_type": "display_data",
          "data": {
            "text/plain": [
              "<Figure size 640x480 with 1 Axes>"
            ],
            "image/png": "[encoded data removed]"
          },
          "metadata": {}
        }
      ]
    },
    {
      "cell_type": "code",
      "source": [
        "\n",
        "#lets see this imbalance data in depth\n",
        "#CLASS LABELS PERCENTAGE In WHOLE DATA\n",
        "a=416/data.shape[0]*100 #sell\n",
        "b=423/data.shape[0]*100 #buy\n",
        "c=4111/data.shape[0]*100 #hold\n",
        "print(\"Percenatage of Sell in data \" +str(a)+\"%\")\n",
        "print(\"Percenatage of Buy in data \" +str(b)+\"%\")\n",
        "print(\"Percentage of Hold in data \" +str(c)+\"%\")"
      ],
      "metadata": {
        "colab": {
          "base_uri": "https://localhost:8080/"
        },
        "id": "sHIYm6E6UzfR",
        "outputId": "5cfef40b-98ef-45c5-f109-356c24eb26d7"
      },
      "execution_count": 14,
      "outputs": [
        {
          "output_type": "stream",
          "name": "stdout",
          "text": [
            "Percenatage of Sell in data 8.404040404040405%\n",
            "Percenatage of Buy in data 8.545454545454545%\n",
            "Percentage of Hold in data 83.05050505050505%\n"
          ]
        }
      ]
    },
    {
      "cell_type": "code",
      "source": [
        "#LETS PLOT THE PIE CHART TO SEE THE DISTRIBUTION\n",
        "label = 'Hold','Sell','Buy'\n",
        "percent = [ 83.05, 8.40,8.54 ]\n",
        "\n",
        "fig1, ax1 = plt.subplots()\n",
        "ax1.pie(percent ,labels=label, autopct='%1.1f%%',\n",
        "        shadow=False, startangle=11)\n",
        "ax1.axis('equal')\n",
        "plt.title(\"Percentage Distribution\")\n",
        "plt.show()"
      ],
      "metadata": {
        "colab": {
          "base_uri": "https://localhost:8080/",
          "height": 428
        },
        "id": "WsFhD9aRVbKX",
        "outputId": "699fad4c-2a1e-47e3-b867-00d48876819f"
      },
      "execution_count": 15,
      "outputs": [
        {
          "output_type": "display_data",
          "data": {
            "text/plain": [
              "<Figure size 640x480 with 1 Axes>"
            ],
            "image/png": "[encoded data removed]"
          },
          "metadata": {}
        }
      ]
    },
    {
      "cell_type": "markdown",
      "source": [
        "#Dimension Reduction"
      ],
      "metadata": {
        "id": "4xD-Cr2vHl5J"
      }
    },
    {
      "cell_type": "markdown",
      "source": [
        "##Feature- 'Date'\n",
        "We took data for last years but there are some companies in the data which got listed in these 2 years so there will be a mismatch in data rows between companies.\n",
        "\n",
        "Also this project is motivated to work around Momentum Trading and that is the reason the \"Recommendation\" column which is added by a Rule Based System and by some manual observation has no relation with the feature \"Date\", so for this project we won't include Date as a feature."
      ],
      "metadata": {
        "id": "f4hMolETWwDH"
      }
    },
    {
      "cell_type": "code",
      "source": [
        "#we took only important features which were used to derive rule based system\n",
        "df=data[['Recommendation','Close', 'Open','High','Low','stock_num']]"
      ],
      "metadata": {
        "id": "PVTbNpcHHrvr"
      },
      "execution_count": 16,
      "outputs": []
    },
    {
      "cell_type": "code",
      "source": [
        "df.shape"
      ],
      "metadata": {
        "colab": {
          "base_uri": "https://localhost:8080/"
        },
        "id": "kEzrZpUEHsZ0",
        "outputId": "997c7039-2f5c-4740-cf3b-8e6a1dd5ed7b"
      },
      "execution_count": 17,
      "outputs": [
        {
          "output_type": "execute_result",
          "data": {
            "text/plain": [
              "(4950, 6)"
            ]
          },
          "metadata": {},
          "execution_count": 17
        }
      ]
    },
    {
      "cell_type": "code",
      "source": [
        "df.info()"
      ],
      "metadata": {
        "colab": {
          "base_uri": "https://localhost:8080/"
        },
        "id": "odYZKkFEI8ze",
        "outputId": "b6adae94-c5f2-4457-d73b-0bc4e0486a44"
      },
      "execution_count": 18,
      "outputs": [
        {
          "output_type": "stream",
          "name": "stdout",
          "text": [
            "<class 'pandas.core.frame.DataFrame'>\n",
            "Int64Index: 4950 entries, 0 to 4949\n",
            "Data columns (total 6 columns):\n",
            " #   Column          Non-Null Count  Dtype  \n",
            "---  ------          --------------  -----  \n",
            " 0   Recommendation  4950 non-null   int64  \n",
            " 1   Close           4950 non-null   float64\n",
            " 2   Open            4950 non-null   float64\n",
            " 3   High            4950 non-null   float64\n",
            " 4   Low             4950 non-null   float64\n",
            " 5   stock_num       4950 non-null   int64  \n",
            "dtypes: float64(4), int64(2)\n",
            "memory usage: 270.7 KB\n"
          ]
        }
      ]
    },
    {
      "cell_type": "code",
      "source": [
        "df['Recommendation'].value_counts()"
      ],
      "metadata": {
        "colab": {
          "base_uri": "https://localhost:8080/"
        },
        "id": "nokA7vNdJloj",
        "outputId": "ab193a58-a182-4d6d-c08a-6cec093b213f"
      },
      "execution_count": 19,
      "outputs": [
        {
          "output_type": "execute_result",
          "data": {
            "text/plain": [
              "2    4111\n",
              "1     423\n",
              "0     416\n",
              "Name: Recommendation, dtype: int64"
            ]
          },
          "metadata": {},
          "execution_count": 19
        }
      ]
    },
    {
      "cell_type": "code",
      "source": [
        "y=df.iloc[:,0:1]\n",
        "X=df.iloc[:,1:9]"
      ],
      "metadata": {
        "id": "P91_sVKVJpLb"
      },
      "execution_count": 20,
      "outputs": []
    },
    {
      "cell_type": "code",
      "source": [
        "X.columns #feature names"
      ],
      "metadata": {
        "colab": {
          "base_uri": "https://localhost:8080/"
        },
        "id": "xg7DltY0Ju-G",
        "outputId": "5bcf2a5b-cc30-4bf4-c6d8-153d7bff529f"
      },
      "execution_count": 21,
      "outputs": [
        {
          "output_type": "execute_result",
          "data": {
            "text/plain": [
              "Index(['Close', 'Open', 'High', 'Low', 'stock_num'], dtype='object')"
            ]
          },
          "metadata": {},
          "execution_count": 21
        }
      ]
    },
    {
      "cell_type": "code",
      "source": [
        "y.columns #this is the target variable"
      ],
      "metadata": {
        "colab": {
          "base_uri": "https://localhost:8080/"
        },
        "id": "w6MsluEZJxYG",
        "outputId": "ab37cf51-c040-4304-fe74-9f75fe41cdec"
      },
      "execution_count": 22,
      "outputs": [
        {
          "output_type": "execute_result",
          "data": {
            "text/plain": [
              "Index(['Recommendation'], dtype='object')"
            ]
          },
          "metadata": {},
          "execution_count": 22
        }
      ]
    },
    {
      "cell_type": "code",
      "source": [
        "#spliting the data into train and test\n",
        "from sklearn.model_selection import train_test_split\n",
        "X_train, X_test, y_train, y_test = train_test_split( X, y, test_size=0.3, random_state=42)"
      ],
      "metadata": {
        "id": "qqK6N87yJ0ic"
      },
      "execution_count": 23,
      "outputs": []
    },
    {
      "cell_type": "code",
      "source": [
        "print(X_train.shape)\n",
        "print(y_train.shape)"
      ],
      "metadata": {
        "colab": {
          "base_uri": "https://localhost:8080/"
        },
        "id": "j_e7ZFrqKAHR",
        "outputId": "0126b3b0-d8ec-4b38-be38-4b0f6a315b2d"
      },
      "execution_count": 24,
      "outputs": [
        {
          "output_type": "stream",
          "name": "stdout",
          "text": [
            "(3465, 5)\n",
            "(3465, 1)\n"
          ]
        }
      ]
    },
    {
      "cell_type": "code",
      "source": [
        "print(X_test.shape)\n",
        "print(y_test.shape)"
      ],
      "metadata": {
        "colab": {
          "base_uri": "https://localhost:8080/"
        },
        "id": "wFZIwyb-KDjC",
        "outputId": "4790ff71-6cd3-45cd-edc4-a982aea334f7"
      },
      "execution_count": 25,
      "outputs": [
        {
          "output_type": "stream",
          "name": "stdout",
          "text": [
            "(1485, 5)\n",
            "(1485, 1)\n"
          ]
        }
      ]
    },
    {
      "cell_type": "code",
      "source": [
        "y_train['Recommendation'].value_counts()"
      ],
      "metadata": {
        "colab": {
          "base_uri": "https://localhost:8080/"
        },
        "id": "YH9cynkGKGKS",
        "outputId": "4ef1569f-e859-471c-c7af-f77a0ae057eb"
      },
      "execution_count": 26,
      "outputs": [
        {
          "output_type": "execute_result",
          "data": {
            "text/plain": [
              "2    2875\n",
              "1     298\n",
              "0     292\n",
              "Name: Recommendation, dtype: int64"
            ]
          },
          "metadata": {},
          "execution_count": 26
        }
      ]
    },
    {
      "cell_type": "markdown",
      "source": [
        "Test data is to test the performance of the the Machine Learning model.\n",
        "\n",
        "Here we are using SMOTE technique on training data, SMOTE algorithm synthetically produces samples using KNN(K nearest neighbour) algorithm, so it understands the local behaviour of a particular class label and try to produce synthetic rows according to that behaviour."
      ],
      "metadata": {
        "id": "YUdJdzdBYDjl"
      }
    },
    {
      "cell_type": "code",
      "source": [
        "from imblearn import under_sampling, over_sampling\n",
        "from imblearn.over_sampling import SMOTE\n",
        "strategy = {1:500, 2:2875, 0:500}\n",
        "#we want Buy and Sell rows to be 2500 and Strong Buy and Strong Sell to be 1500\n",
        "oversample = SMOTE(sampling_strategy=strategy)\n",
        "Xsmote, ysmote = oversample.fit_resample(X_train, y_train)"
      ],
      "metadata": {
        "id": "bVyT1d3cKJmd"
      },
      "execution_count": 27,
      "outputs": []
    },
    {
      "cell_type": "code",
      "source": [
        "print(Xsmote.shape)\n",
        "print(ysmote.shape)\n",
        "# print(ysmote)"
      ],
      "metadata": {
        "colab": {
          "base_uri": "https://localhost:8080/"
        },
        "id": "rHA4ARlzLjBP",
        "outputId": "aa433a1c-b08e-40fd-8250-ac1154b46eef"
      },
      "execution_count": 28,
      "outputs": [
        {
          "output_type": "stream",
          "name": "stdout",
          "text": [
            "(3875, 5)\n",
            "(3875, 1)\n"
          ]
        }
      ]
    },
    {
      "cell_type": "markdown",
      "source": [
        "We still have data imabalance in the data but that is the nature of original data we have in real world, We can do more balancing of data but then Machine Learning model wont be able to handle that in real world data."
      ],
      "metadata": {
        "id": "Wdt2yQqCYwK8"
      }
    },
    {
      "cell_type": "code",
      "source": [
        "# Plot the distribution\n",
        "plt.bar([0,1,2], [500,500,2875])\n",
        "plt.show()"
      ],
      "metadata": {
        "colab": {
          "base_uri": "https://localhost:8080/",
          "height": 433
        },
        "id": "ondr5Uu2NZ1a",
        "outputId": "99309286-c9e2-47b1-d025-499091e1ae99"
      },
      "execution_count": 29,
      "outputs": [
        {
          "output_type": "display_data",
          "data": {
            "text/plain": [
              "<Figure size 640x480 with 1 Axes>"
            ],
            "image/png": "[encoded data removed]"
          },
          "metadata": {}
        }
      ]
    },
    {
      "cell_type": "markdown",
      "source": [
        "Logistic Regression(SMOTE)"
      ],
      "metadata": {
        "id": "uSwAm083ci6Z"
      }
    },
    {
      "cell_type": "code",
      "source": [
        "#we are using simple gridsearchcv to tune the hyperparameter C\n",
        "#here we are using smote samples\n",
        "tuned_parameters=[{'C':[10**-4,10**-2,10**0,10**2,10**4]}]\n",
        "\n",
        "LRmodel=GridSearchCV(LogisticRegression(max_iter=400),tuned_parameters)\n",
        "\n",
        "LRmodel.fit(Xsmote,ysmote)\n",
        "\n",
        "print(LRmodel.best_estimator_)\n",
        "print(LRmodel.score(X_test,y_test))"
      ],
      "metadata": {
        "colab": {
          "base_uri": "https://localhost:8080/"
        },
        "id": "6LKcaqbBqRNJ",
        "outputId": "a5215510-c563-4650-8197-e3b5904267f3"
      },
      "execution_count": 30,
      "outputs": [
        {
          "output_type": "stream",
          "name": "stdout",
          "text": [
            "LogisticRegression(C=0.0001, max_iter=400)\n",
            "0.8323232323232324\n"
          ]
        }
      ]
    },
    {
      "cell_type": "code",
      "source": [
        "#predictions\n",
        "LR_testsmote_prediction=LRmodel.predict(X_test)\n",
        "LR_trainsmote_predictions=LRmodel.predict(Xsmote)"
      ],
      "metadata": {
        "id": "E4LoCaokq5iW"
      },
      "execution_count": 31,
      "outputs": []
    },
    {
      "cell_type": "code",
      "source": [
        "#evaluation of Logistic Regression with smote\n",
        "from sklearn.metrics import f1_score\n",
        "X_lrtest_F1score=f1_score(y_test,LR_testsmote_prediction,average='macro')\n",
        "print(\"Testing f1 score is\",X_lrtest_F1score) #f1 score on test data\n",
        "\n",
        "X_lrtrain_F1score=f1_score(ysmote,LR_trainsmote_predictions,average='macro')\n",
        "print(\"Training f1 score is\",X_lrtrain_F1score) #f1 score on train data"
      ],
      "metadata": {
        "colab": {
          "base_uri": "https://localhost:8080/"
        },
        "id": "Ey6WV6coqiNZ",
        "outputId": "2e43db0e-2b89-4466-a249-66efad4d8fee"
      },
      "execution_count": 32,
      "outputs": [
        {
          "output_type": "stream",
          "name": "stdout",
          "text": [
            "Testing f1 score is 0.302829841969864\n",
            "Training f1 score is 0.28651009370060515\n"
          ]
        }
      ]
    },
    {
      "cell_type": "markdown",
      "source": [
        "F1_macro is really very bad, it means model is not able to classify minority class labels."
      ],
      "metadata": {
        "id": "352s6COstvor"
      }
    },
    {
      "cell_type": "markdown",
      "source": [
        "#Logistic Regression"
      ],
      "metadata": {
        "id": "K4bgyKQGdAlF"
      }
    },
    {
      "cell_type": "code",
      "source": [
        "#we are using simple gridsearchcv to tune the hyperparameter C\n",
        "#here we are not using smote samples\n",
        "tuned_parameters=[{'C':[10**-4,10**-2,10**0,10**2,10**4]}]\n",
        "\n",
        "LRmodel=GridSearchCV(LogisticRegression(max_iter=400),tuned_parameters)\n",
        "\n",
        "LRmodel.fit(X_train,y_train)\n",
        "\n",
        "print(LRmodel.best_estimator_)\n",
        "print(LRmodel.score(X_test,y_test))"
      ],
      "metadata": {
        "colab": {
          "base_uri": "https://localhost:8080/"
        },
        "id": "9rsSNuSuqskp",
        "outputId": "43362d83-d33f-45d8-acdc-75706d6e6cb6"
      },
      "execution_count": 33,
      "outputs": [
        {
          "output_type": "stream",
          "name": "stdout",
          "text": [
            "LogisticRegression(C=0.0001, max_iter=400)\n",
            "0.8323232323232324\n"
          ]
        }
      ]
    },
    {
      "cell_type": "code",
      "source": [
        "#predictions\n",
        "LR_test_prediction=LRmodel.predict(X_test)\n",
        "LR_train_predictions=LRmodel.predict(X_train)"
      ],
      "metadata": {
        "id": "MMiqpq4gqutq"
      },
      "execution_count": 34,
      "outputs": []
    },
    {
      "cell_type": "code",
      "source": [
        "#evaluation of Logistic Regression without smote\n",
        "from sklearn.metrics import f1_score\n",
        "X_lrtest_F1score=f1_score(y_test,LR_test_prediction,average='macro')\n",
        "print(\"Testing f1 score is\",X_lrtest_F1score) #f1 score on test data\n",
        "\n",
        "X_lrtrain_F1score=f1_score(y_train,LR_train_predictions,average='macro')\n",
        "print(\"Training f1 score is\",X_lrtrain_F1score) #f1 score on train data"
      ],
      "metadata": {
        "colab": {
          "base_uri": "https://localhost:8080/"
        },
        "id": "Ms5KT3C9qrva",
        "outputId": "172cbb50-e072-4358-d1e3-d88a42dce588"
      },
      "execution_count": 35,
      "outputs": [
        {
          "output_type": "stream",
          "name": "stdout",
          "text": [
            "Testing f1 score is 0.302829841969864\n",
            "Training f1 score is 0.30231335436382756\n"
          ]
        }
      ]
    },
    {
      "cell_type": "markdown",
      "source": [
        "#Random Forest(smote)\n",
        "Lets begin the model training, we will start with Random Forest Model"
      ],
      "metadata": {
        "id": "qpz1dDaBdP0m"
      }
    },
    {
      "cell_type": "code",
      "source": [
        "#Training random forest after applying SMOTE technique.\n",
        "#here we are using GridSearchCV to tune the hyperparamters we have in randomforest to see which\n",
        "# parameters works best.\n",
        "from sklearn.ensemble import RandomForestClassifier\n",
        "from sklearn.model_selection import GridSearchCV\n",
        "param_grid = {\n",
        "    'n_estimators': [200,300, 500],\n",
        "    'max_depth' : [4,5,6]\n",
        "}\n",
        "rfc=RandomForestClassifier(random_state=42)\n",
        "\n",
        "grid_search = GridSearchCV(estimator = rfc, param_grid = param_grid,\n",
        "                          cv = 3, n_jobs = -1, verbose = 2)"
      ],
      "metadata": {
        "id": "UwvjJ5ZMsj1y"
      },
      "execution_count": 36,
      "outputs": []
    },
    {
      "cell_type": "code",
      "source": [
        "#here we are fiting the training data\n",
        "\n",
        "grid_search.fit(Xsmote, ysmote)\n",
        "print(grid_search.best_params_)"
      ],
      "metadata": {
        "colab": {
          "base_uri": "https://localhost:8080/"
        },
        "id": "fhPpBvdFuGa5",
        "outputId": "2d1371e6-c8be-4c79-9d0d-37388e486a7f"
      },
      "execution_count": 37,
      "outputs": [
        {
          "output_type": "stream",
          "name": "stdout",
          "text": [
            "Fitting 3 folds for each of 9 candidates, totalling 27 fits\n",
            "{'max_depth': 6, 'n_estimators': 300}\n"
          ]
        }
      ]
    },
    {
      "cell_type": "code",
      "source": [
        "#training the random forest model\n",
        "rfc_new=RandomForestClassifier(criterion= 'entropy', max_depth= 6, max_features= 'auto', n_estimators=200,random_state=42)\n",
        "random_forest_model_smote=rfc_new.fit(Xsmote,ysmote)"
      ],
      "metadata": {
        "id": "T6FqqxVFtAEl"
      },
      "execution_count": 38,
      "outputs": []
    },
    {
      "cell_type": "code",
      "source": [
        "#predictions\n",
        "smote_predictions_test=random_forest_model_smote.predict(X_test)\n",
        "smote_predictions_train=random_forest_model_smote.predict(Xsmote)"
      ],
      "metadata": {
        "id": "1SBvHS-rtG6p"
      },
      "execution_count": 39,
      "outputs": []
    },
    {
      "cell_type": "code",
      "source": [
        "#evaluation of random forest with smote\n",
        "from sklearn.metrics import f1_score\n",
        "X_test_F1score=f1_score(y_test,smote_predictions_test,average='micro')\n",
        "print(\"Testing f1 score is\",X_test_F1score) #f1 score on test data\n",
        "\n",
        "X_train_F1score=f1_score(ysmote,smote_predictions_train,average='micro')\n",
        "print(\"Training f1 score is\",X_train_F1score) #f1 score on train data"
      ],
      "metadata": {
        "colab": {
          "base_uri": "https://localhost:8080/"
        },
        "id": "2WbGirSYtLw_",
        "outputId": "41dcd998-b894-40b8-b772-a8eb70611331"
      },
      "execution_count": 40,
      "outputs": [
        {
          "output_type": "stream",
          "name": "stdout",
          "text": [
            "Testing f1 score is 0.8323232323232324\n",
            "Training f1 score is 0.7447741935483871\n"
          ]
        }
      ]
    },
    {
      "cell_type": "markdown",
      "source": [
        "#RandomForest"
      ],
      "metadata": {
        "id": "cOdh_QfMebK0"
      }
    },
    {
      "cell_type": "code",
      "source": [
        "#lets train random forest without using smote technique\n",
        "\n",
        "#here we are GridSearchCV to tune the hyperparamters we have in randomforest to see which\n",
        "# parameters works best.\n",
        "from sklearn.ensemble import RandomForestClassifier\n",
        "\n",
        "from sklearn.model_selection import GridSearchCV\n",
        "param_grid = {\n",
        "    'n_estimators': [200,300, 500],\n",
        "    'max_depth' : [4,5,6]\n",
        "}\n",
        "rfc3=RandomForestClassifier(class_weight='balanced',random_state=42)\n",
        "#here parameter class_weight='balanced' will balance the class imbalances\n",
        "\n",
        "grid_searchcw = GridSearchCV(estimator = rfc3, param_grid = param_grid,\n",
        "                          cv = 3, n_jobs = -1, verbose = 2)"
      ],
      "metadata": {
        "id": "7QFFKpPxeoIJ"
      },
      "execution_count": 41,
      "outputs": []
    },
    {
      "cell_type": "code",
      "source": [
        "grid_searchcw.fit(X_train, y_train)\n",
        "print(grid_searchcw.best_params_)"
      ],
      "metadata": {
        "id": "gnLpuqgP2eq8",
        "colab": {
          "base_uri": "https://localhost:8080/"
        },
        "outputId": "0650dcba-f751-4259-ace9-05408a110111"
      },
      "execution_count": 42,
      "outputs": [
        {
          "output_type": "stream",
          "name": "stdout",
          "text": [
            "Fitting 3 folds for each of 9 candidates, totalling 27 fits\n",
            "{'max_depth': 6, 'n_estimators': 300}\n"
          ]
        }
      ]
    },
    {
      "cell_type": "code",
      "source": [
        "#training rf with tuned parameters(only class weights)\n",
        "from sklearn.ensemble import RandomForestClassifier\n",
        "rfc3=RandomForestClassifier(class_weight='balanced',criterion= 'entropy', max_depth= 6, max_features= 'auto', n_estimators=300,random_state=42)\n",
        "random_forest_modelcw=rfc3.fit(X_train,y_train)"
      ],
      "metadata": {
        "id": "OOoM7dRTytht"
      },
      "execution_count": 43,
      "outputs": []
    },
    {
      "cell_type": "code",
      "source": [
        "X_test_predictcw=random_forest_modelcw.predict(X_test)\n",
        "X_train_predictcw=random_forest_modelcw.predict(X_train)"
      ],
      "metadata": {
        "id": "xWF4-_Oby0zR"
      },
      "execution_count": 44,
      "outputs": []
    },
    {
      "cell_type": "code",
      "source": [
        "#class weights\n",
        "from sklearn.metrics import f1_score\n",
        "X_test_F1score=f1_score(y_test,X_test_predictcw,average='micro')\n",
        "print(\"Test F1 score for random forest is\",X_test_F1score) #f1 score on test data\n",
        "\n",
        "X_train_F1score=f1_score(y_train,X_train_predictcw,average='micro')\n",
        "print(\"Train F1 score for random forest is\",X_train_F1score) #f1 score on train data"
      ],
      "metadata": {
        "colab": {
          "base_uri": "https://localhost:8080/"
        },
        "id": "hI46h03xy2Am",
        "outputId": "124900ec-2857-4bf4-f494-4e8abb9bf6d0"
      },
      "execution_count": 45,
      "outputs": [
        {
          "output_type": "stream",
          "name": "stdout",
          "text": [
            "Test F1 score for random forest is 0.6424242424242425\n",
            "Train F1 score for random forest is 0.7927849927849928\n"
          ]
        }
      ]
    },
    {
      "cell_type": "code",
      "source": [
        "print(X_test[:5])\n",
        "# random_forest_modelcw.predict()"
      ],
      "metadata": {
        "colab": {
          "base_uri": "https://localhost:8080/"
        },
        "id": "FLRoFNisADCT",
        "outputId": "8c207acb-230f-4428-a7d1-d196914b730a"
      },
      "execution_count": 46,
      "outputs": [
        {
          "output_type": "stream",
          "name": "stdout",
          "text": [
            "       Close     Open      High      Low  stock_num\n",
            "230   147.83  149.020  150.8400  146.800          1\n",
            "4855  212.25  209.850  213.5100  209.040         10\n",
            "1954  116.96  116.490  118.7950  116.480          4\n",
            "3463  438.08  429.980  439.9000  426.740          7\n",
            "1844   99.87   99.815  101.7499   99.355          4\n"
          ]
        }
      ]
    },
    {
      "cell_type": "code",
      "source": [
        "from prettytable import PrettyTable\n",
        "columns=([\"ALGORITHM\", \"F1_SCORE\"])\n",
        "myTable = PrettyTable()\n",
        "myTable.add_column(columns[0], [\"Logistic Regression with smote\",\"Logistic Regression\",\"Random Forest with smote\" ,\"Random Forest\"])\n",
        "myTable.add_column(columns[1], [\" 32.28%\",\"30.28%\",\" 74.50%\", \"64.24%\"])\n",
        "\n",
        "print(myTable)\n"
      ],
      "metadata": {
        "id": "mDeyZdMW7zpi",
        "colab": {
          "base_uri": "https://localhost:8080/"
        },
        "outputId": "c2e870cd-7062-4e56-e91f-c2e50ce6cec9"
      },
      "execution_count": 47,
      "outputs": [
        {
          "output_type": "stream",
          "name": "stdout",
          "text": [
            "+--------------------------------+----------+\n",
            "|           ALGORITHM            | F1_SCORE |\n",
            "+--------------------------------+----------+\n",
            "| Logistic Regression with smote |  32.28%  |\n",
            "|      Logistic Regression       |  30.28%  |\n",
            "|    Random Forest with smote    |  74.50%  |\n",
            "|         Random Forest          |  64.24%  |\n",
            "+--------------------------------+----------+\n"
          ]
        }
      ]
    },
    {
      "cell_type": "code",
      "source": [],
      "metadata": {
        "id": "so8D_0fo1hfE"
      },
      "execution_count": null,
      "outputs": []
    }
  ]
}