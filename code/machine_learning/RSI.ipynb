{
 "cells": [
  {
   "cell_type": "code",
   "execution_count": 12,
   "metadata": {},
   "outputs": [],
   "source": [
    "import pandas as pd\n",
    "\n",
    "# Read the data from the CSV file\n",
    "data = pd.read_csv(\"stocks.csv\")\n",
    "\n",
    "# Set the time period\n",
    "n = 14\n",
    "\n",
    "# Calculate daily price change\n",
    "data[\"Price Change\"] = data[\"Close\"] - data[\"Close\"].shift(1)\n",
    "\n",
    "# Calculate daily gain and loss\n",
    "data[\"Gain\"] = data[\"Price Change\"].apply(lambda x: max(x, 0))\n",
    "data[\"Loss\"] = data[\"Price Change\"].apply(lambda x: max(-x, 0))\n",
    "\n",
    "# Calculate average gain and loss\n",
    "data[\"Average Gain\"] = data[\"Gain\"].rolling(window=n).mean()\n",
    "data[\"Average Loss\"] = data[\"Loss\"].rolling(window=n).mean()\n",
    "\n",
    "# Calculate relative strength (RS)\n",
    "data[\"RS\"] = data[\"Average Gain\"] / data[\"Average Loss\"]\n",
    "\n",
    "# Calculate relative strength index (RSI)\n",
    "data[\"RSI\"] = 100 - (100 / (1 + data[\"RS\"]))\n",
    "\n",
    "# Save the updated data back to the CSV file\n",
    "data.to_csv(\"stocks.csv\", index=False)\n"
   ]
  },
  {
   "cell_type": "code",
   "execution_count": null,
   "metadata": {},
   "outputs": [],
   "source": []
  }
 ],
 "metadata": {
  "kernelspec": {
   "display_name": "base",
   "language": "python",
   "name": "python3"
  },
  "language_info": {
   "codemirror_mode": {
    "name": "ipython",
    "version": 3
   },
   "file_extension": ".py",
   "mimetype": "text/x-python",
   "name": "python",
   "nbconvert_exporter": "python",
   "pygments_lexer": "ipython3",
   "version": "3.10.9"
  },
  "orig_nbformat": 4
 },
 "nbformat": 4,
 "nbformat_minor": 2
}
